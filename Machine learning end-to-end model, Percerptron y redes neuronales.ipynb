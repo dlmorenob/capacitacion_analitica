{
 "cells": [
  {
   "cell_type": "markdown",
   "id": "5d59ce62",
   "metadata": {
    "slideshow": {
     "slide_type": "slide"
    }
   },
   "source": [
    "# <CENTER> Aprendizaje de máquina, Perceptron, Redes Neuronales</CENTER> <p> <CENTER>Ejemplo completo (Taller)</CENTER>"
   ]
  },
  {
   "cell_type": "markdown",
   "id": "0926bf40",
   "metadata": {
    "slideshow": {
     "slide_type": "slide"
    }
   },
   "source": [
    "#### Referencia: \n",
    "[Hands-On Machine Learning with Scikit-Learn, Keras and Tensorflow, 2nd Edition](https://github.com/ageron/handson-ml2)\n",
    "\n",
    "<center>\n",
    "<img src=\"figuras/reference_book.jpeg\">    \n",
    "</center>\n"
   ]
  },
  {
   "cell_type": "markdown",
   "id": "4ead6e52",
   "metadata": {
    "slideshow": {
     "slide_type": "slide"
    }
   },
   "source": [
    "# Que es aprendizaje de máquina\n",
    "\n",
    "Es la ciencia y el arte de programar computadores para que puedan **aprender** de los datos\n",
    "\n",
    "Una visión más **ingenieril**\n",
    "\n",
    "Se dice que un programa aprende de una experiencia $E$ con respecto a una tarea $T$ y una medida de desempeño $P$, si su desempeño en $T$, medido por $P$, mejora con experiencia  $E$.\n"
   ]
  },
  {
   "cell_type": "markdown",
   "id": "0b33e9f5",
   "metadata": {
    "slideshow": {
     "slide_type": "slide"
    }
   },
   "source": [
    "# ¿Por qué usar aprendizaje de máquina?\n",
    "\n",
    "Considere como escribir un programa tradicional para armar un filtro de spam:\n",
    "1. Hay que considar como se ve el correo no deseado de forma general.  es decir, que palabras son las que más se repiten, por ejemplo en el sujeto de cada correo.  Es posible que se puedan identificar otros patrones, o enlaces, o palabras en el cuerpo del correo.\n",
    "\n",
    "2. Escribir un algoritmo de detección para cada uno de los patrones que usted ha detectado, así su programa puede categorizar los correos como no deseados si un número considerable de estos patrones es detectado.\n",
    "\n",
    "3. Usted probaría su programa y repetiría los pasos 1 y 2 hasta que haya capturado suficientes patrones para detectar satisfactoriamente un correo no deseado.\n",
    "\n",
    "Ya que pueden aparecer nuevas palabras, este problema es dificil, y su programa seguramente tendría muchos condicionales y rápidamente adquiría una gran complejidad (**difícil de mantener**)."
   ]
  },
  {
   "cell_type": "markdown",
   "id": "0ed3b160",
   "metadata": {
    "slideshow": {
     "slide_type": "slide"
    }
   },
   "source": [
    "# ¿Por qué usar aprendizaje de máquina?\n",
    "\n",
    "Por otro lado, un filtro de correo no deseado basado en **técnicas de aprendizaje de máquina** puede aprender cuales palabras y frases son buenos predictores de spam al detectar patrones de palabras inusualmente frecuentes comparados con el correo bueno.  \n",
    "\n",
    "Usando técnicas (no/ó) supervisadas de categorización es posible ir identificando correo deseado del no deseado.\n",
    "\n",
    "Este programa sería **mucho más fácil de mantener**."
   ]
  },
  {
   "cell_type": "markdown",
   "id": "4bfa0e59",
   "metadata": {
    "slideshow": {
     "slide_type": "slide"
    }
   },
   "source": [
    "#  Un flujo de trabajo para el aprendizaje de máquina \n",
    "\n",
    "\n",
    "\n",
    "<center>\n",
    "<img src=\"figuras/machine_learning_approach.png\" width=\"850\">\n",
    "</center>\n",
    "    \n",
    "<!--%![Machine Learning approach](figuras/machine_learning_approach.png) -->\n"
   ]
  },
  {
   "cell_type": "markdown",
   "id": "e4df7b15",
   "metadata": {
    "slideshow": {
     "slide_type": "slide"
    }
   },
   "source": [
    "# Los modelos de aprendizaje de máquina pueden adaptarse al cambio\n",
    "\n",
    "<center>\n",
    "<img src=\"figuras/adapted_ML_approach.png\" width=\"850\">\n",
    "</center>"
   ]
  },
  {
   "cell_type": "markdown",
   "id": "c3b51e02",
   "metadata": {
    "slideshow": {
     "slide_type": "slide"
    }
   },
   "source": [
    "# Los modelos de aprendizaje de máquina pueden ayudar a los humanos a aprender\n",
    "\n",
    "<center>\n",
    "<img src=\"figuras/ml_help_humans.png\" width=\"850\">\n",
    "</center>"
   ]
  },
  {
   "cell_type": "markdown",
   "id": "dde3ac3c",
   "metadata": {
    "slideshow": {
     "slide_type": "slide"
    }
   },
   "source": [
    "### En resumen, las técnicas de aprendizaje de máquina son buenas en:\n",
    "\n",
    "- Problemas para los cúales las soluciones existentes requieren de mucho afinamiento o una gran lista de reglas:  Un **modelo de aprendizaje de máquina** puede simplificar el código y desempeñarse mejor que el enfoque tradicional.\n",
    "\n",
    "- Problemas complejos para los cúales no hay una buena solución usando un enfoque tradicional:  las mejores técnicas de aprendizaje de máquina pueden posiblemente encontrar una solución.\n",
    "\n",
    "- Ambiente cambiante: un sistema de aprendizaje de máquina puede adaptarse a nuevos datos.\n",
    "\n",
    "- Obtener aprendizajes sobre problemas complejos y grandes cantidades de datos."
   ]
  },
  {
   "cell_type": "markdown",
   "id": "f5747f8d",
   "metadata": {
    "slideshow": {
     "slide_type": "skip"
    }
   },
   "source": []
  },
  {
   "cell_type": "markdown",
   "id": "6e98ac57",
   "metadata": {
    "slideshow": {
     "slide_type": "slide"
    }
   },
   "source": [
    "\n",
    "<center>\n",
    "<img src=\"figuras/t-SNE-visualization.png\" width=\"850\">\n",
    "</center>\n"
   ]
  },
  {
   "cell_type": "markdown",
   "id": "137bfaf1",
   "metadata": {
    "slideshow": {
     "slide_type": "slide"
    }
   },
   "source": [
    "<center>\n",
    "<img src=\"figuras/anomaly_detection.png\" width=\"850\">\n",
    "</center>"
   ]
  },
  {
   "cell_type": "markdown",
   "id": "c8412cef",
   "metadata": {
    "slideshow": {
     "slide_type": "slide"
    }
   },
   "source": [
    "# <CENTER>Machine Learning in short (NVIDIA)</CENTER>\n",
    "#### Referencia:  [GPU Boootcamp - Tropical Cyclone Notebook](https://github.com/openhackathons-org/gpubootcamp)"
   ]
  },
  {
   "cell_type": "markdown",
   "id": "1492ca7c",
   "metadata": {
    "slideshow": {
     "slide_type": "slide"
    }
   },
   "source": [
    "# <CENTER>End-to-end machine learning project</CENTER>\n",
    "#### [Código:  Ver notebook del capítulo 2] https://github.com/ageron/handson-ml2"
   ]
  },
  {
   "cell_type": "markdown",
   "id": "b4c79868",
   "metadata": {
    "slideshow": {
     "slide_type": "slide"
    }
   },
   "source": [
    "#  Perceptrón\n",
    "\n",
    "El perceptrón es una de las arquitecturas de redes neuronales más sencillas (inventada en 1975 por Frank Rosenblatt).\n",
    "\n",
    "Está basada en un tipo diferente de neurona artificial llamada **Unidad Lógica de Úmbral (TLU - Threshold Logic Unit)**\n",
    "#### Las entradas son números, y cada entrada esta asociada con un peso.  la TLU calcula una suma ponderada de sus entradas\n",
    "$$\n",
    "  z = \\omega_1 x_1 = \\omega_2 x_2 + \\cdots + \\omega_n x_n = \\textbf{X}^{T} \\textbf{W}\n",
    "$$\n",
    "\n",
    "Luego se aplica una función escalón unitario a esa suma y devuelve la salida\n",
    "\n",
    "\n",
    "$$\n",
    "  h_{\\omega}(\\textbf{x}) = \\textrm{step}(\\textbf{z}), \n",
    "$$\n",
    "\n",
    "\n",
    "en donde $\\textbf{z} = \\textbf{X}^{T} \\textbf{W}$ \n"
   ]
  },
  {
   "cell_type": "markdown",
   "id": "c95f6186",
   "metadata": {
    "slideshow": {
     "slide_type": "slide"
    }
   },
   "source": [
    "#  Perceptrón\n",
    "\n",
    "<center>\n",
    "<img src=\"figuras/perceptron.png\" width=\"850\">\n",
    "</center>\n",
    "\n",
    "Función de activación tipo escalón unitario comúnmente usada en perceptrones.\n",
    "\n",
    "$$\n",
    "\\textrm{heaviside}(Z) = \\left \\{  \n",
    "\\begin{array}{lcl}\n",
    " 0 & \\textrm{if} & z < 0 \\\\\n",
    " 1 & \\textrm{if} & z \\geq 0 \n",
    "\\end{array}\n",
    "\\right .\n",
    "$$\n"
   ]
  },
  {
   "cell_type": "markdown",
   "id": "21d4b934",
   "metadata": {
    "slideshow": {
     "slide_type": "skip"
    }
   },
   "source": []
  },
  {
   "cell_type": "markdown",
   "id": "28c0dbbd",
   "metadata": {
    "slideshow": {
     "slide_type": "slide"
    }
   },
   "source": [
    "## Perceptrones\n",
    "\n",
    "En una monografía hecha en el año 1969, Marvin Minsky y Seymour Papert mostraron varias deficiencias de los perceptrones.  En particular, el hecho de que estas son incapaces de resolver algunos problemas triviales, como por ejemplo: el problema de clasificación $\\textbf{XOR}$.\n",
    "\n",
    "Sin embargo, estas <span style=\"color:red\"> limitaciones pueden ser eliminadas al apilar múltiples perceptrones</span>.\n",
    "\n",
    "<p>\n",
    "<p>\n",
    "\n",
    "<center>\n",
    "<img src=\"figuras/xor_problem.png\" width=\"600\">\n",
    "</center>"
   ]
  },
  {
   "cell_type": "markdown",
   "id": "c25926ec",
   "metadata": {
    "slideshow": {
     "slide_type": "slide"
    }
   },
   "source": [
    "## Theorem\n",
    "\n",
    "<span style=\"color:blue\"> The results of Section 2 establish that standard <span style=\"color:red\">multilayer feedforward networks are capable of approximating any measurable function to any desired degree of accuracy</span>, in a very specific and satisfying sense. We have thus established that such “mapping” networks are universal approximators. This implies that any lack of success in applications must arise from inadequate learning, insufficient numbers of hidden units or the lack of a deterministic relationship between input and target.</span>\n",
    "\n",
    "\n",
    "Source:\n",
    "    Multilayer Feedforward Networks are Universal Approximators, Kurt Jornik,  Technische Universität  Wien, Maxwell Stinchcombe and Halbert White, University of California, San Diego in Neural Networks, Vol. 2, pp. 359-366, 1989.    \n",
    "  \n",
    "\n"
   ]
  },
  {
   "cell_type": "code",
   "execution_count": null,
   "id": "8406f966",
   "metadata": {
    "slideshow": {
     "slide_type": "skip"
    }
   },
   "outputs": [],
   "source": []
  },
  {
   "cell_type": "markdown",
   "id": "905d2335",
   "metadata": {
    "slideshow": {
     "slide_type": "slide"
    }
   },
   "source": [
    "## Perceptrones Multicapa\n",
    "[Vikashraj Luhaniwal: Ejemplo para el cálculo de pesos en una Red Neuronal](https://towardsdatascience.com/forward-propagation-in-neural-networks-simplified-math-and-code-version-bbcfef6f9250)\n",
    "\n",
    "<center>\n",
    "<img src=\"figuras/neural_network_dyn.gif\" width=\"850\">\n",
    "</center>"
   ]
  },
  {
   "cell_type": "markdown",
   "id": "294306a1",
   "metadata": {
    "slideshow": {
     "slide_type": "slide"
    }
   },
   "source": [
    " ## El algoritmo de propagación hacia atrás (backpropagation).\n",
    " \n",
    "Por muchos años los investigadores lucharon para encontrar una forma de entrenar MLPs (Multi-Layer Perceptrons) sin éxito.\n",
    "\n",
    "En el año 1986, David Rumelhart, Geoffrey Hinton, y Ronald Williams publican un paper que cambió el curso del aprendizaje de máquina.  El algoritmo de propagación hacia atrás o **backpropagation**.\n",
    "\n",
    "El algoritmo de propagación hacia atrás es capaz de <span style=\"color:blue\"> calcular los gradientes del error de la red</span> con <span style=\"color:red\">respecto a cada uno de los parámetros del modelo</span>.\n",
    "\n",
    "Es decir, el algoritmo puede encontrar los valores óptimos para actualizar cada peso  $\\omega$ en cada conexión y cada término de influencia (bias)  $b$ para reducir el error.\n",
    "\n",
    "Una vez encuentra estos gradientes, efectua un paso de actualización regular del algoritmo ${\\textit{gradiente descendente}}$, lo cual equivale a una **época**.  Luego, repite el proceso hasta  que la solución converge.  \n",
    " "
   ]
  },
  {
   "cell_type": "markdown",
   "id": "2c8735bf",
   "metadata": {
    "slideshow": {
     "slide_type": "slide"
    }
   },
   "source": [
    "Suponga que se desean calcular los gradientes de la siguiente función \n",
    "$$\n",
    "f(x,y)=x^2y + y + 2\n",
    "$$ \n",
    "con respecto a los parámetros $x$, y, $y$:   \n",
    "\n",
    "Sus opciones principales son:\n",
    "\n",
    "1. Diferenciación manual\n",
    "2. Aproximación por diferencias finitas\n",
    "3. Diferenciación automática hacia adelante\n",
    "4. Diferenciación automática hacia atrás\n"
   ]
  },
  {
   "cell_type": "code",
   "execution_count": 44,
   "id": "ca2c07f4",
   "metadata": {
    "slideshow": {
     "slide_type": "slide"
    }
   },
   "outputs": [],
   "source": [
    "def f(x,y):\n",
    "    return x*x*y + y + 2"
   ]
  },
  {
   "cell_type": "markdown",
   "id": "18e22996",
   "metadata": {
    "slideshow": {
     "slide_type": "slide"
    }
   },
   "source": [
    "1. Resolviendo a mano usando derivadas tenemos\n",
    "\n",
    "$\n",
    "\\dfrac{\\partial f}{\\partial x} = 2xy\n",
    "$\n",
    "\n",
    "$\n",
    "\\dfrac{\\partial f}{\\partial y} = x^2 + 1\n",
    "$"
   ]
  },
  {
   "cell_type": "code",
   "execution_count": 45,
   "id": "eec14c5a",
   "metadata": {
    "slideshow": {
     "slide_type": "-"
    }
   },
   "outputs": [],
   "source": [
    "def df(x,y):\n",
    "    return 2*x*y, x*x + 1"
   ]
  },
  {
   "cell_type": "markdown",
   "id": "f7c888cd",
   "metadata": {
    "slideshow": {
     "slide_type": "-"
    }
   },
   "source": [
    "Entonces si calculamos para el punto (3,4), las derivadas serán $\\dfrac{\\partial f}{\\partial x}(3,4) = 24$ y $\\dfrac{\\partial f}{\\partial y}(3,4) = 10$."
   ]
  },
  {
   "cell_type": "code",
   "execution_count": 46,
   "id": "f1175297",
   "metadata": {
    "slideshow": {
     "slide_type": "-"
    }
   },
   "outputs": [
    {
     "data": {
      "text/plain": [
       "(24, 10)"
      ]
     },
     "execution_count": 46,
     "metadata": {},
     "output_type": "execute_result"
    }
   ],
   "source": [
    "df(3, 4)"
   ]
  },
  {
   "cell_type": "markdown",
   "id": "6c1d9a8d",
   "metadata": {
    "slideshow": {
     "slide_type": "slide"
    }
   },
   "source": [
    "2. Diferenciación numérica\n",
    "\n",
    "Aquí, calculamos una aproximmación de los gradientes usando la ecuación\n",
    "\n",
    "$$\n",
    "\\dfrac{\\partial f}{\\partial x} = \\displaystyle{\\lim_{\\epsilon \\to 0}}\\dfrac{f(x+\\epsilon, y) - f(x, y)}{\\epsilon}\n",
    "$$\n",
    "\n",
    "y\n",
    "\n",
    "$$\n",
    "\\dfrac{\\partial f}{\\partial y} = \\displaystyle{\\lim_{\\epsilon \\to 0}}\\dfrac{f(x,y+\\epsilon) - f(x, y)}{\\epsilon}\n",
    "$$\n",
    "\n"
   ]
  },
  {
   "cell_type": "code",
   "execution_count": 47,
   "id": "8706b9fc",
   "metadata": {
    "slideshow": {
     "slide_type": "slide"
    }
   },
   "outputs": [],
   "source": [
    "def gradients_num(func, vars_list, eps=0.0001):\n",
    "    partial_derivatives = []\n",
    "    base_func_eval = func(*vars_list)\n",
    "    for idx in range(len(vars_list)):\n",
    "        tweaked_vars = vars_list[:]\n",
    "        tweaked_vars[idx] += eps\n",
    "        tweaked_func_eval = func(*tweaked_vars)\n",
    "        derivative = (tweaked_func_eval - base_func_eval) / eps\n",
    "        partial_derivatives.append(derivative)\n",
    "    return partial_derivatives"
   ]
  },
  {
   "cell_type": "code",
   "execution_count": 48,
   "id": "d0c1de74",
   "metadata": {
    "slideshow": {
     "slide_type": "-"
    }
   },
   "outputs": [],
   "source": [
    "def df(x, y):\n",
    "    return gradients_num(f, [x, y])"
   ]
  },
  {
   "cell_type": "code",
   "execution_count": 49,
   "id": "af35b60c",
   "metadata": {
    "slideshow": {
     "slide_type": "-"
    }
   },
   "outputs": [
    {
     "data": {
      "text/plain": [
       "[24.000400000048216, 10.000000000047748]"
      ]
     },
     "execution_count": 49,
     "metadata": {},
     "output_type": "execute_result"
    }
   ],
   "source": [
    "df(3, 4)"
   ]
  },
  {
   "cell_type": "markdown",
   "id": "a816d608",
   "metadata": {
    "slideshow": {
     "slide_type": "slide"
    }
   },
   "source": [
    "### Reverse mode autodiff using TensorFlow"
   ]
  },
  {
   "cell_type": "code",
   "execution_count": 50,
   "id": "3c0db6f0",
   "metadata": {
    "scrolled": true,
    "slideshow": {
     "slide_type": "-"
    }
   },
   "outputs": [
    {
     "data": {
      "text/plain": [
       "[[<tf.Tensor: shape=(), dtype=float32, numpy=8.0>,\n",
       "  <tf.Tensor: shape=(), dtype=float32, numpy=6.0>],\n",
       " [<tf.Tensor: shape=(), dtype=float32, numpy=6.0>, None]]"
      ]
     },
     "execution_count": 50,
     "metadata": {},
     "output_type": "execute_result"
    }
   ],
   "source": [
    "import tensorflow as tf\n",
    "\n",
    "### DEFINICIÓN DE VARIABLES EN\n",
    "### TENSORFLOW\n",
    "\n",
    "x = tf.Variable(3.)\n",
    "y = tf.Variable(4.)\n",
    "\n",
    "\n",
    "###PRIMER DERIVADA\n",
    "with tf.GradientTape() as tape:\n",
    "    f = x*x*y + y + 2\n",
    "\n",
    "jacobians = tape.gradient(f, [x, y])\n",
    "jacobians\n",
    "\n",
    "\n",
    "x = tf.Variable(3.)\n",
    "y = tf.Variable(4.)\n",
    "\n",
    "###PRIMER DERIVADA\n",
    "with tf.GradientTape(persistent=True) as tape:\n",
    "    f = x*x*y + y + 2\n",
    "    df_dx, df_dy = tape.gradient(f, [x, y])\n",
    "    \n",
    "###SEGUNDA DERIVADA    \n",
    "d2f_d2x, d2f_dydx = tape.gradient(df_dx, [x, y])\n",
    "d2f_dxdy, d2f_d2y = tape.gradient(df_dy, [x, y])\n",
    "del tape\n",
    "\n",
    "hessians = [[d2f_d2x, d2f_dydx], [d2f_dxdy, d2f_d2y]]\n",
    "hessians"
   ]
  },
  {
   "cell_type": "markdown",
   "id": "bbc6940a",
   "metadata": {
    "slideshow": {
     "slide_type": "slide"
    }
   },
   "source": [
    "### Chain rule \n",
    "\n",
    "In calculus, the chain rule is a formula that expresses the derivative of the composition of two differentiable functions $f$ and $g$ in terms of the derivatives of $f$ and $g$ (wikipedia).\n",
    "\n",
    "$$\n",
    "\\frac{dz}{\\partial x} = \\frac{dz}{dy} \\times \\frac{dy}{dx} \n",
    "$$\n",
    "\n",
    "\n",
    "El modo diferencial reverso, que es la implementación que usa Tensorflow y se para el caso de nodos dentro del grafo se expresa, usando la regla de la cadena, como:\n",
    "\n",
    "$$\n",
    "\\frac{\\partial  f}{\\partial x} = \\frac{\\partial  f}{\\partial n_i} \\times \\frac{\\partial  n_i}{\\partial x} \n",
    "$$\n"
   ]
  },
  {
   "cell_type": "markdown",
   "id": "64f6e299",
   "metadata": {
    "slideshow": {
     "slide_type": "slide"
    }
   },
   "source": [
    "###  Reverse-Mode  Autodiff\n",
    "<center>\n",
    "<img src=\"figuras/reverse-mode-autodiff.png\" width=\"900\">\n",
    "</center>"
   ]
  },
  {
   "cell_type": "markdown",
   "id": "ad75fc99",
   "metadata": {
    "slideshow": {
     "slide_type": "slide"
    }
   },
   "source": [
    "Nota 1: **Es importante inicializar todas las conexiones de los pesos de forma aleatoria**. <span style=\"color:red\"> De otro modo el entrenamiento fallara</span>. \n",
    "\n",
    "Si se inician todos los valores a cero, todas las neuronas serán idénticas, y el algoritmo de **backpropagation** las afectará de igual forma.  Por tanto serán idénticas.\n",
    "\n",
    "Nota 2: <span style=\"color:green\"> Una red neuronal profunda, lo suficientemente grande, con activaciones no lineales, puede teóricamente aproximar culaquier función continua.</span>. "
   ]
  },
  {
   "cell_type": "markdown",
   "id": "3ef75960",
   "metadata": {
    "slideshow": {
     "slide_type": "slide"
    }
   },
   "source": [
    "### ¿Por qué queremos saber que pasa con los gradientes?\n",
    "\n",
    "Al final **la función de activación** se **aplica sobre la suma ponderada de los pesos y los terminos de precondicionamiento (o bias terms)**:\n",
    "\n",
    "<p>\n",
    "<center>\n",
    "<img src=\"figuras/funciones_activacion1.png\" width=\"900\">\n",
    "</center>"
   ]
  },
  {
   "cell_type": "markdown",
   "id": "4d4e158b",
   "metadata": {
    "slideshow": {
     "slide_type": "slide"
    }
   },
   "source": [
    "### Definamos una red neuronal en Keras entonces"
   ]
  },
  {
   "cell_type": "code",
   "execution_count": 51,
   "id": "1d9135f3",
   "metadata": {
    "slideshow": {
     "slide_type": "slide"
    }
   },
   "outputs": [
    {
     "name": "stdout",
     "output_type": "stream",
     "text": [
      "2.11.0\n",
      "2.11.0\n",
      "(60000, 28, 28)\n",
      "uint8\n",
      "0\n"
     ]
    }
   ],
   "source": [
    "import tensorflow as tf\n",
    "from tensorflow import keras\n",
    "print(keras.__version__)\n",
    "print(tf.__version__)      \n",
    "\n",
    "###  categorización de ropa\n",
    "fashion_mnist = keras.datasets.fashion_mnist\n",
    "(X_train_full, y_train_full), (X_test, y_test) = fashion_mnist.load_data()\n",
    "\n",
    "## Tamanio del dataset\n",
    "print(X_train_full.shape)\n",
    "\n",
    "## Tamanio del dataset\n",
    "print(y_train_full.dtype)\n",
    "\n",
    "###valores de las imagenes van de cero a 255\n",
    "print(y_train_full[2])\n",
    "\n",
    "## Se desea usar gradiente descendiente\n",
    "## deben escalarse las entradas\n",
    "X_valid, X_train = X_train_full[:5000] / 255., X_train_full[5000:] / 255.\n",
    "y_valid, y_train = y_train_full[:5000], y_train_full[5000:]\n",
    "X_test = X_test / 255."
   ]
  },
  {
   "cell_type": "code",
   "execution_count": 52,
   "id": "022f2ec7",
   "metadata": {
    "slideshow": {
     "slide_type": "slide"
    }
   },
   "outputs": [
    {
     "data": {
      "image/png": "[encoded data removed]",
      "text/plain": [
       "<Figure size 640x480 with 1 Axes>"
      ]
     },
     "metadata": {},
     "output_type": "display_data"
    },
    {
     "name": "stdout",
     "output_type": "stream",
     "text": [
      "4\n",
      "Coat\n"
     ]
    }
   ],
   "source": [
    "%matplotlib inline\n",
    "import matplotlib as mpl\n",
    "import matplotlib.pyplot as plt\n",
    "mpl.rc('axes', labelsize=14)\n",
    "mpl.rc('xtick', labelsize=12)\n",
    "mpl.rc('ytick', labelsize=12)\n",
    "\n",
    "###  pinte los bits almacenados en el arreglo 6\n",
    "plt.imshow(X_train[6], cmap=\"binary\")\n",
    "plt.axis('off')\n",
    "plt.show()\n",
    "\n",
    "###  categoria abrigo == 4\n",
    "print(y_train[6])\n",
    "\n",
    "class_names = [\"T-shirt/top\", \"Trouser\", \"Pullover\", \"Dress\", \"Coat\",\n",
    "               \"Sandal\", \"Shirt\", \"Sneaker\", \"Bag\", \"Ankle boot\"]\n",
    "\n",
    "print(class_names[y_train[6]])"
   ]
  },
  {
   "cell_type": "code",
   "execution_count": 53,
   "id": "4b765de1",
   "metadata": {
    "slideshow": {
     "slide_type": "slide"
    }
   },
   "outputs": [
    {
     "name": "stdout",
     "output_type": "stream",
     "text": [
      "(5000, 28, 28)\n",
      "(10000, 28, 28)\n"
     ]
    }
   ],
   "source": [
    "### Tamanio del adatset de validacion\n",
    "print(X_valid.shape)\n",
    "\n",
    "### Tamanio del dataset de prueba\n",
    "print(X_test.shape)"
   ]
  },
  {
   "cell_type": "code",
   "execution_count": 54,
   "id": "460318ea",
   "metadata": {
    "slideshow": {
     "slide_type": "slide"
    }
   },
   "outputs": [],
   "source": [
    "import os\n",
    "PROJECT_ROOT_DIR = \".\"\n",
    "CHAPTER_ID  = \"ann\"\n",
    "IMAGES_PATH = os.path.join(PROJECT_ROOT_DIR, \"images\", CHAPTER_ID)\n",
    "os.makedirs(IMAGES_PATH, exist_ok=True)\n",
    "\n",
    "def save_fig(fig_id, tight_layout=True, fig_extension=\"png\", resolution=300):\n",
    "    path = os.path.join(IMAGES_PATH, fig_id + \".\" + fig_extension)\n",
    "    print(\"Saving figure\", fig_id)\n",
    "    if tight_layout:\n",
    "        plt.tight_layout()\n",
    "    plt.savefig(path, format=fig_extension, dpi=resolution)\n"
   ]
  },
  {
   "cell_type": "markdown",
   "id": "99bf7a8f",
   "metadata": {
    "slideshow": {
     "slide_type": "slide"
    }
   },
   "source": [
    "###  Revisemos las muestras del conjunto de datos"
   ]
  },
  {
   "cell_type": "code",
   "execution_count": 55,
   "id": "54633c9e",
   "metadata": {
    "scrolled": false,
    "slideshow": {
     "slide_type": "-"
    }
   },
   "outputs": [
    {
     "name": "stdout",
     "output_type": "stream",
     "text": [
      "Saving figure fashion_mnist_plot\n"
     ]
    },
    {
     "data": {
      "image/png": "[encoded data removed]",
      "text/plain": [
       "<Figure size 1200x480 with 40 Axes>"
      ]
     },
     "metadata": {},
     "output_type": "display_data"
    }
   ],
   "source": [
    "n_rows = 4\n",
    "n_cols = 10\n",
    "plt.figure(figsize=(n_cols * 1.2, n_rows * 1.2))\n",
    "for row in range(n_rows):\n",
    "    for col in range(n_cols):\n",
    "        index = n_cols * row + col\n",
    "        plt.subplot(n_rows, n_cols, index + 1)\n",
    "        plt.imshow(X_train[index], cmap=\"binary\", interpolation=\"nearest\")\n",
    "        plt.axis('off')\n",
    "        plt.title(class_names[y_train[index]], fontsize=12)\n",
    "plt.subplots_adjust(wspace=0.2, hspace=0.5)\n",
    "save_fig('fashion_mnist_plot', tight_layout=False)\n",
    "plt.show()"
   ]
  },
  {
   "cell_type": "markdown",
   "id": "851d386f",
   "metadata": {
    "slideshow": {
     "slide_type": "slide"
    }
   },
   "source": [
    "### Definamos el modelo de red neuronal profunda"
   ]
  },
  {
   "cell_type": "code",
   "execution_count": 56,
   "id": "be3b5592",
   "metadata": {},
   "outputs": [],
   "source": [
    "model = keras.models.Sequential()\n",
    "model.add(keras.layers.Flatten(input_shape=[28, 28]))\n",
    "model.add(keras.layers.Dense(300, activation=\"relu\"))\n",
    "model.add(keras.layers.Dense(100, activation=\"relu\"))\n",
    "model.add(keras.layers.Dense(10, activation=\"softmax\"))"
   ]
  },
  {
   "cell_type": "code",
   "execution_count": 57,
   "id": "ed3b6a50",
   "metadata": {},
   "outputs": [
    {
     "name": "stdout",
     "output_type": "stream",
     "text": [
      "[<keras.layers.reshaping.flatten.Flatten object at 0x7fbe8411dc40>, <keras.layers.core.dense.Dense object at 0x7fbe6c15e490>, <keras.layers.core.dense.Dense object at 0x7fbe6c64dfd0>, <keras.layers.core.dense.Dense object at 0x7fbe8429c3a0>]\n",
      "Model: \"sequential\"\n",
      "_________________________________________________________________\n",
      " Layer (type)                Output Shape              Param #   \n",
      "=================================================================\n",
      " flatten (Flatten)           (None, 784)               0         \n",
      "                                                                 \n",
      " dense (Dense)               (None, 300)               235500    \n",
      "                                                                 \n",
      " dense_1 (Dense)             (None, 100)               30100     \n",
      "                                                                 \n",
      " dense_2 (Dense)             (None, 10)                1010      \n",
      "                                                                 \n",
      "=================================================================\n",
      "Total params: 266,610\n",
      "Trainable params: 266,610\n",
      "Non-trainable params: 0\n",
      "_________________________________________________________________\n"
     ]
    }
   ],
   "source": [
    "import numpy as np\n",
    "keras.backend.clear_session()\n",
    "np.random.seed(42)\n",
    "tf.random.set_seed(42)\n",
    "\n",
    "print(model.layers)\n",
    "\n",
    "model.summary()"
   ]
  },
  {
   "cell_type": "code",
   "execution_count": 58,
   "id": "d62acdfb",
   "metadata": {
    "slideshow": {
     "slide_type": "slide"
    }
   },
   "outputs": [],
   "source": [
    "### Definamos la función a minimizar \n",
    "model.compile(loss=\"sparse_categorical_crossentropy\",\n",
    "              optimizer=\"sgd\",\n",
    "              metrics=[\"accuracy\"])"
   ]
  },
  {
   "cell_type": "code",
   "execution_count": 59,
   "id": "dacf96ae",
   "metadata": {
    "scrolled": true,
    "slideshow": {
     "slide_type": "-"
    }
   },
   "outputs": [
    {
     "name": "stdout",
     "output_type": "stream",
     "text": [
      "Epoch 1/30\n",
      "1719/1719 [==============================] - 5s 3ms/step - loss: 0.7158 - accuracy: 0.7604 - val_loss: 0.5155 - val_accuracy: 0.8226\n",
      "Epoch 2/30\n",
      "1719/1719 [==============================] - 5s 3ms/step - loss: 0.4879 - accuracy: 0.8287 - val_loss: 0.4336 - val_accuracy: 0.8520\n",
      "Epoch 3/30\n",
      "1719/1719 [==============================] - 5s 3ms/step - loss: 0.4402 - accuracy: 0.8452 - val_loss: 0.5061 - val_accuracy: 0.8068\n",
      "Epoch 4/30\n",
      "1719/1719 [==============================] - 5s 3ms/step - loss: 0.4122 - accuracy: 0.8561 - val_loss: 0.3905 - val_accuracy: 0.8616\n",
      "Epoch 5/30\n",
      "1719/1719 [==============================] - 4s 3ms/step - loss: 0.3926 - accuracy: 0.8626 - val_loss: 0.3736 - val_accuracy: 0.8668\n",
      "Epoch 6/30\n",
      "1719/1719 [==============================] - 5s 3ms/step - loss: 0.3733 - accuracy: 0.8676 - val_loss: 0.3645 - val_accuracy: 0.8744\n",
      "Epoch 7/30\n",
      "1719/1719 [==============================] - 5s 3ms/step - loss: 0.3605 - accuracy: 0.8719 - val_loss: 0.3625 - val_accuracy: 0.8756\n",
      "Epoch 8/30\n",
      "1719/1719 [==============================] - 5s 3ms/step - loss: 0.3487 - accuracy: 0.8756 - val_loss: 0.3820 - val_accuracy: 0.8646\n",
      "Epoch 9/30\n",
      "1719/1719 [==============================] - 5s 3ms/step - loss: 0.3382 - accuracy: 0.8808 - val_loss: 0.3477 - val_accuracy: 0.8718\n",
      "Epoch 10/30\n",
      "1719/1719 [==============================] - 5s 3ms/step - loss: 0.3290 - accuracy: 0.8828 - val_loss: 0.3456 - val_accuracy: 0.8780\n",
      "Epoch 11/30\n",
      "1719/1719 [==============================] - 5s 3ms/step - loss: 0.3208 - accuracy: 0.8854 - val_loss: 0.3398 - val_accuracy: 0.8786\n",
      "Epoch 12/30\n",
      "1719/1719 [==============================] - 5s 3ms/step - loss: 0.3113 - accuracy: 0.8876 - val_loss: 0.3322 - val_accuracy: 0.8798\n",
      "Epoch 13/30\n",
      "1719/1719 [==============================] - 5s 3ms/step - loss: 0.3052 - accuracy: 0.8908 - val_loss: 0.3304 - val_accuracy: 0.8870\n",
      "Epoch 14/30\n",
      "1719/1719 [==============================] - 5s 3ms/step - loss: 0.2990 - accuracy: 0.8931 - val_loss: 0.3533 - val_accuracy: 0.8692\n",
      "Epoch 15/30\n",
      "1719/1719 [==============================] - 5s 3ms/step - loss: 0.2914 - accuracy: 0.8959 - val_loss: 0.3225 - val_accuracy: 0.8814\n",
      "Epoch 16/30\n",
      "1719/1719 [==============================] - 5s 3ms/step - loss: 0.2865 - accuracy: 0.8973 - val_loss: 0.3117 - val_accuracy: 0.8848\n",
      "Epoch 17/30\n",
      "1719/1719 [==============================] - 5s 3ms/step - loss: 0.2807 - accuracy: 0.8980 - val_loss: 0.3547 - val_accuracy: 0.8758\n",
      "Epoch 18/30\n",
      "1719/1719 [==============================] - 5s 3ms/step - loss: 0.2750 - accuracy: 0.9006 - val_loss: 0.3156 - val_accuracy: 0.8878\n",
      "Epoch 19/30\n",
      "1719/1719 [==============================] - 4s 3ms/step - loss: 0.2703 - accuracy: 0.9018 - val_loss: 0.3102 - val_accuracy: 0.8892\n",
      "Epoch 20/30\n",
      "1719/1719 [==============================] - 5s 3ms/step - loss: 0.2648 - accuracy: 0.9041 - val_loss: 0.3280 - val_accuracy: 0.8820\n",
      "Epoch 21/30\n",
      "1719/1719 [==============================] - 5s 3ms/step - loss: 0.2599 - accuracy: 0.9058 - val_loss: 0.3030 - val_accuracy: 0.8926\n",
      "Epoch 22/30\n",
      "1719/1719 [==============================] - 5s 3ms/step - loss: 0.2551 - accuracy: 0.9073 - val_loss: 0.2948 - val_accuracy: 0.8920\n",
      "Epoch 23/30\n",
      "1719/1719 [==============================] - 5s 3ms/step - loss: 0.2508 - accuracy: 0.9086 - val_loss: 0.2995 - val_accuracy: 0.8922\n",
      "Epoch 24/30\n",
      "1719/1719 [==============================] - 5s 3ms/step - loss: 0.2462 - accuracy: 0.9108 - val_loss: 0.3056 - val_accuracy: 0.8882\n",
      "Epoch 25/30\n",
      "1719/1719 [==============================] - 5s 3ms/step - loss: 0.2419 - accuracy: 0.9125 - val_loss: 0.3008 - val_accuracy: 0.8942\n",
      "Epoch 26/30\n",
      "1719/1719 [==============================] - 5s 3ms/step - loss: 0.2374 - accuracy: 0.9147 - val_loss: 0.3015 - val_accuracy: 0.8912\n",
      "Epoch 27/30\n",
      "1719/1719 [==============================] - 5s 3ms/step - loss: 0.2340 - accuracy: 0.9155 - val_loss: 0.3023 - val_accuracy: 0.8912\n",
      "Epoch 28/30\n",
      "1719/1719 [==============================] - 4s 3ms/step - loss: 0.2308 - accuracy: 0.9172 - val_loss: 0.2983 - val_accuracy: 0.8906\n",
      "Epoch 29/30\n",
      "1719/1719 [==============================] - 5s 3ms/step - loss: 0.2262 - accuracy: 0.9193 - val_loss: 0.3094 - val_accuracy: 0.8872\n",
      "Epoch 30/30\n",
      "1719/1719 [==============================] - 5s 3ms/step - loss: 0.2227 - accuracy: 0.9199 - val_loss: 0.3138 - val_accuracy: 0.8860\n"
     ]
    }
   ],
   "source": [
    "### Y, entrenemos la red\n",
    "history = model.fit(X_train, y_train, epochs=30,validation_data=(X_valid, y_valid))"
   ]
  },
  {
   "cell_type": "code",
   "execution_count": 60,
   "id": "7fb5060e",
   "metadata": {
    "slideshow": {
     "slide_type": "slide"
    }
   },
   "outputs": [
    {
     "name": "stdout",
     "output_type": "stream",
     "text": [
      "Saving figure keras_learning_curves_plot\n"
     ]
    },
    {
     "data": {
      "image/png": "[encoded data removed]",
      "text/plain": [
       "<Figure size 800x500 with 1 Axes>"
      ]
     },
     "metadata": {},
     "output_type": "display_data"
    }
   ],
   "source": [
    "import pandas as pd\n",
    "\n",
    "pd.DataFrame(history.history).plot(figsize=(8, 5))\n",
    "plt.grid(True)\n",
    "plt.gca().set_ylim(0, 1)\n",
    "save_fig(\"keras_learning_curves_plot\")\n",
    "plt.show()"
   ]
  },
  {
   "cell_type": "markdown",
   "id": "d79aeddb",
   "metadata": {
    "slideshow": {
     "slide_type": "slide"
    }
   },
   "source": [
    "### Evaluemos con el set de prueba la perdida (loss o diferencia con respecto a las etiquetas originales) y la precisión"
   ]
  },
  {
   "cell_type": "code",
   "execution_count": 61,
   "id": "b1c5043c",
   "metadata": {
    "slideshow": {
     "slide_type": "-"
    }
   },
   "outputs": [
    {
     "name": "stdout",
     "output_type": "stream",
     "text": [
      "313/313 [==============================] - 1s 2ms/step - loss: 0.3454 - accuracy: 0.8796\n"
     ]
    },
    {
     "data": {
      "text/plain": [
       "[0.34537622332572937, 0.8795999884605408]"
      ]
     },
     "execution_count": 61,
     "metadata": {},
     "output_type": "execute_result"
    }
   ],
   "source": [
    "model.evaluate(X_test, y_test)"
   ]
  },
  {
   "cell_type": "code",
   "execution_count": 62,
   "id": "a7e0d1ad",
   "metadata": {
    "slideshow": {
     "slide_type": "slide"
    }
   },
   "outputs": [],
   "source": [
    "### Hagamos predicciones para el resto de las clases"
   ]
  },
  {
   "cell_type": "code",
   "execution_count": 67,
   "id": "c99c442c",
   "metadata": {
    "slideshow": {
     "slide_type": "-"
    }
   },
   "outputs": [
    {
     "name": "stdout",
     "output_type": "stream",
     "text": [
      "1/1 [==============================] - 0s 22ms/step\n",
      "[[0.   0.   0.   0.   0.   0.02 0.   0.02 0.   0.96]\n",
      " [0.   0.   1.   0.   0.   0.   0.   0.   0.   0.  ]\n",
      " [0.   1.   0.   0.   0.   0.   0.   0.   0.   0.  ]]\n"
     ]
    }
   ],
   "source": [
    "X_new = X_test[:3]\n",
    "y_proba = model.predict(X_new)\n",
    "print(y_proba.round(2))"
   ]
  },
  {
   "cell_type": "code",
   "execution_count": 68,
   "id": "3bddb852",
   "metadata": {
    "slideshow": {
     "slide_type": "slide"
    }
   },
   "outputs": [
    {
     "name": "stdout",
     "output_type": "stream",
     "text": [
      "[9 2 1]\n",
      "Saving figure fashion_mnist_images_plot\n"
     ]
    },
    {
     "data": {
      "image/png": "[encoded data removed]",
      "text/plain": [
       "<Figure size 720x240 with 3 Axes>"
      ]
     },
     "metadata": {},
     "output_type": "display_data"
    }
   ],
   "source": [
    "## pintemos las predicciones\n",
    "y_new = y_test[:3]\n",
    "print(y_new)\n",
    "\n",
    "## pintemos las predicciones\n",
    "\n",
    "plt.figure(figsize=(7.2, 2.4))\n",
    "for index, image in enumerate(X_new):\n",
    "    plt.subplot(1, 3, index + 1)\n",
    "    plt.imshow(image, cmap=\"binary\", interpolation=\"nearest\")\n",
    "    plt.axis('off')\n",
    "    plt.title(class_names[y_test[index]], fontsize=12)\n",
    "plt.subplots_adjust(wspace=0.2, hspace=0.5)\n",
    "save_fig('fashion_mnist_images_plot', tight_layout=False)\n",
    "plt.show()\n"
   ]
  },
  {
   "cell_type": "code",
   "execution_count": null,
   "id": "f17a06b1",
   "metadata": {
    "slideshow": {
     "slide_type": "skip"
    }
   },
   "outputs": [],
   "source": []
  },
  {
   "cell_type": "code",
   "execution_count": null,
   "id": "30ff1b7e",
   "metadata": {
    "slideshow": {
     "slide_type": "skip"
    }
   },
   "outputs": [],
   "source": []
  },
  {
   "cell_type": "code",
   "execution_count": null,
   "id": "26055d34",
   "metadata": {
    "slideshow": {
     "slide_type": "skip"
    }
   },
   "outputs": [],
   "source": []
  },
  {
   "cell_type": "code",
   "execution_count": null,
   "id": "e6f97186",
   "metadata": {
    "slideshow": {
     "slide_type": "skip"
    }
   },
   "outputs": [],
   "source": []
  }
 ],
 "metadata": {
  "celltoolbar": "Slideshow",
  "kernelspec": {
   "display_name": "Python 3 (ipykernel)",
   "language": "python",
   "name": "python3"
  },
  "language_info": {
   "codemirror_mode": {
    "name": "ipython",
    "version": 3
   },
   "file_extension": ".py",
   "mimetype": "text/x-python",
   "name": "python",
   "nbconvert_exporter": "python",
   "pygments_lexer": "ipython3",
   "version": "3.9.13"
  }
 },
 "nbformat": 4,
 "nbformat_minor": 5
}
