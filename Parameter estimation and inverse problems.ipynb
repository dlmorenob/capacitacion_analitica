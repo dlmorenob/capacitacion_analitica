{
 "cells": [
  {
   "cell_type": "markdown",
   "id": "532577a0",
   "metadata": {
    "slideshow": {
     "slide_type": "slide"
    }
   },
   "source": [
    "\n",
    "# <CENTER>CAPACITACIÓN EN ANALÍTICA (VIDEO) </CENTER>\n",
    "## <CENTER>TRANSMILENIO S.A.</CENTER>\n",
    "## <CENTER>Primer sesión</CENTER>\n",
    "#### <CENTER>DAVID LEONARDO MORENO BEDOYA</CENTER>\n"
   ]
  },
  {
   "cell_type": "markdown",
   "id": "583ec8c1",
   "metadata": {
    "slideshow": {
     "slide_type": "slide"
    }
   },
   "source": [
    "# Ajuste de Curvas\n",
    "\n",
    "### Se desea encontrar una función (lineal) que se ajuste a los datos de la siguiente tabla\n",
    "\n",
    "\n",
    "$$\n",
    "\\begin{array}{|r|r|r|}\n",
    "\\hline\n",
    "   i & x   & y  \\\\\n",
    "\\hline   \n",
    "   1 & 0.1 & 0.61 \\\\\n",
    "   2 & 0.4 & 0.92 \\\\\n",
    "   3 & 0.5 & 0.99 \\\\\n",
    "   4 & 0.7 & 1.52 \\\\\n",
    "   5 & 0.7 & 1.47 \\\\\n",
    "   6 & 0.9 & 2.03 \\\\\n",
    "\\hline   \n",
    "\\end{array}\n",
    "$$ \n"
   ]
  },
  {
   "cell_type": "code",
   "execution_count": null,
   "id": "10f49e21",
   "metadata": {
    "slideshow": {
     "slide_type": "slide"
    }
   },
   "outputs": [],
   "source": [
    "import matplotlib.pyplot as plt\n",
    "\n",
    "x = [0.1 ,  0.4,  0.5,  0.7,  0.7,  0.9]\n",
    "y = [0.61, 0.92, 0.99, 1.52, 1.47, 2.03]\n",
    "\n",
    "plt.scatter(x,y)\n",
    "plt.show()"
   ]
  },
  {
   "cell_type": "markdown",
   "id": "4f2862f4",
   "metadata": {
    "slideshow": {
     "slide_type": "slide"
    }
   },
   "source": [
    "#### La función lineal se expresa como\n",
    "\n",
    "$$\n",
    "g(x) = a + bx\n",
    "$$\n",
    "\n",
    "Donde $a$ y $b$ son constantes por determinar.  La desviación de la recta con respecto a cada dato se define como\n",
    "\n",
    "$$\n",
    "r_i = y_i - g(x_i) = y_i - (a + bx),  i=1,2,\\cdots,L\n",
    "$$\n",
    "\n",
    "donde $L$ es el número total de datos y a y b son constantes por determinar."
   ]
  },
  {
   "cell_type": "markdown",
   "id": "89ca77cd",
   "metadata": {
    "slideshow": {
     "slide_type": "slide"
    }
   },
   "source": [
    "El cuadrado total de las desviaciones está dado por\n",
    "\n",
    "$$\n",
    "  R =  \\sum_{i=1}^{L} \\left ( r_i \\right )^ 2 = \\sum_{i=1}^{L} \\left ( y_i - a - bx_i \\right )^ 2\n",
    "$$\n",
    "\n",
    "Debido a que a y b son parámetros arbitrarios, se determinan de forma que minimicen a $R$.\n"
   ]
  },
  {
   "cell_type": "markdown",
   "id": "ba03a20c",
   "metadata": {
    "slideshow": {
     "slide_type": "slide"
    }
   },
   "source": [
    "Entonces si:\n",
    "\n",
    "$$\n",
    "  R =  \\sum_{i=1}^{L} \\left ( r_i \\right )^ 2 = \\sum_{i=1}^{L} \\left ( y_i - a - bx_i \\right )^ 2\n",
    "$$\n",
    "\n",
    "\n",
    "El mínimo de R se obtiene si las derivadas parciales de R con respecto a $a$ y a $b$ se anulan:\n",
    "\n",
    "\n",
    "$$\n",
    "\\begin{array}{lcl}\n",
    "   \\frac{\\partial R}{\\partial a} &=& -2 \\sum_{i=1}^{L} \\left ( y_i - a - bx_i \\right ) = 0 \\\\\n",
    "   \\\\\n",
    "   \\frac{\\partial R}{\\partial b} &=& -2 \\sum_{i=1}^{L}   x_i\\left (  y_i - a - bx_i \\right ) = 0\n",
    " \\end{array}\n",
    "$$"
   ]
  },
  {
   "cell_type": "markdown",
   "id": "eb79bc75",
   "metadata": {
    "slideshow": {
     "slide_type": "slide"
    }
   },
   "source": [
    "Rearreglando\n",
    "\n",
    "$$\n",
    "\\begin{array}{lcl}\n",
    "   \\frac{\\partial R}{\\partial a} &=& -2 \\sum_{i=1}^{L} \\left ( y_i - a - bx_i \\right ) = 0 \\\\\n",
    "   \\\\\n",
    "   \\frac{\\partial R}{\\partial b} &=& -2 \\sum_{i=1}^{L}   x_i\\left (  y_i - a - bx_i \\right ) = 0\n",
    " \\end{array}\n",
    "$$\n",
    "\n",
    "Obtendremos\n",
    "\n",
    "$$\n",
    "\\begin{array}{lcl}\n",
    " \\sum_{i=1}^{L} ( y_i ) - \\sum_{i=1}^{L} a - \\sum_{i=1}^{L} b x_i = 0 \\\\\n",
    " \\\\\n",
    " \\sum_{i=1}^{L} (x_i y_i ) - \\sum_{i=1}^{L} x_i a - \\sum_{i=1}^{L}x_i b x_i = 0 \\\\\n",
    " \\end{array}\n",
    "$$\n"
   ]
  },
  {
   "cell_type": "markdown",
   "id": "e7029cd5",
   "metadata": {
    "slideshow": {
     "slide_type": "slide"
    }
   },
   "source": [
    "Moviendo terminos y cambiando signos obtenemos\n",
    "\n",
    "$$\n",
    "\\begin{array}{lllll}\n",
    " \\sum_{i=1}^{L} a     & + & \\sum_{i=1}^{L} bx    & = & \\sum_{i=1}^{L}  y_i  \\\\\n",
    " \\sum_{i=1}^{L} x_i a & + & \\sum_{i=1}^{L}x_i bx & = & \\sum_{i=1}^{L} x_i y_i \n",
    " \\end{array}\n",
    "$$"
   ]
  },
  {
   "cell_type": "markdown",
   "id": "867312c3",
   "metadata": {
    "slideshow": {
     "slide_type": "slide"
    }
   },
   "source": [
    "Partiendo de:\n",
    "\n",
    "$$\n",
    "\\begin{array}{lllll}\n",
    " \\sum_{i=1}^{L} a     & + & \\sum_{i=1}^{L} bx    & = & \\sum_{i=1}^{L}  y_i  \\\\\n",
    " \\sum_{i=1}^{L} x_i a & + & \\sum_{i=1}^{L}x_i bx & = & \\sum_{i=1}^{L} x_i y_i \n",
    " \\end{array}\n",
    "$$\n",
    "\n",
    "Agrupando y reescribiendo en términos de a y de b obtenemos:\n",
    "\n",
    "$$\n",
    "\\left [\n",
    "\\begin{array}{lllll}\n",
    " \\sum_{i=1}^{L}     & + & \\sum_{i=1}^{L} x_i   \\\\\n",
    " \\sum_{i=1}^{L} x_i & + & \\sum_{i=1}^{L} x_i^2  \n",
    " \\end{array}\n",
    "\\right ]  \\left [ \\begin{array}{l} a \\\\ b \\end{array} \\right ] = \\left [  \\begin{array}{l} \\sum_{i=1}^{L} y_i \\\\ \\sum_{i=1}^{L} x_i y_i \\end{array} \\right ]\n",
    "$$\n",
    "\n",
    "Lo cual puede simplificarse como la ecuación genérica\n",
    "\n",
    "$$\n",
    "  \\mathbf{A}\\mathbf{x} = \\mathbf{b}\n",
    "$$\n",
    "\n",
    "<span style=\"color:blue\">Un sistema lineal de ecuaciones.</span>"
   ]
  },
  {
   "cell_type": "code",
   "execution_count": null,
   "id": "1ddbd251",
   "metadata": {
    "slideshow": {
     "slide_type": "skip"
    }
   },
   "outputs": [],
   "source": []
  },
  {
   "cell_type": "markdown",
   "id": "b71a98e8",
   "metadata": {
    "slideshow": {
     "slide_type": "slide"
    }
   },
   "source": [
    "## Theorem\n",
    "### Weierstrass Approximation\n",
    "<span style=\"color:green\">\n",
    "Let $f: [a,b] \\rightarrow R$ be a real valued continuous function. Then we can find polynomials $p_n(x)$ such that every $p_n$ converges uniformly to $x$ on $[a,b]$. \n",
    " </span>\n",
    "Entonces:\n",
    "\n",
    "Si $f(x)$ es una función real, continua en el intervalo $[a,b]$ y dado un $\\epsilon > 0$, entonces existe un polinomio $P_n(x)$ tal que\n",
    "\n",
    "$$\n",
    "   \\max | f(x) - P_n(x) | \\leq \\epsilon\n",
    "$$\n",
    "\n",
    "$\\forall  x \\in [a, b]$\n",
    "\n",
    "Este teorema nos cuenta que <span style=\"color:blue\">sin importar que tan complicada sea la función $f(x)$ dada</span>, <span style=\"color:red\">siempre podremos encontrar un polinomio que este tan cerca a $f(x)$ como se desee.</span>"
   ]
  },
  {
   "cell_type": "markdown",
   "id": "0c7fe8de",
   "metadata": {
    "slideshow": {
     "slide_type": "slide"
    }
   },
   "source": [
    "Ahora si, resolvamos nuestro problema:\n",
    "Necesitamos entonces:"
   ]
  },
  {
   "cell_type": "code",
   "execution_count": null,
   "id": "64f80835",
   "metadata": {
    "slideshow": {
     "slide_type": "slide"
    }
   },
   "outputs": [],
   "source": [
    "import matplotlib.pyplot as plt\n",
    "import numpy as np\n",
    "\n",
    "x = [0.1 ,  0.4,  0.5,  0.7,  0.7,  0.9]\n",
    "y = [0.61, 0.92, 0.99, 1.52, 1.47, 2.03]\n",
    "\n",
    "x = np.asarray(x)\n",
    "y = np.asarray(y)\n",
    "\n",
    "L      = len(x)\n",
    "sumxi  = np.sum(x)\n",
    "sumxi2 = np.sum(x**2)\n",
    "sumyi  = np.sum(y)\n",
    "sumyi2 = np.sum(y**2)\n",
    "sumxiyi  = np.sum(x*y)\n",
    "\n",
    "\n",
    "A = [[L,sumxi],[sumxi,sumxi2]]\n",
    "print(A)\n",
    "b = [[sumyi],[sumxiyi]]\n",
    "print(b)\n",
    "\n",
    "Ai = np.linalg.inv(A)\n",
    "xsol = np.dot(Ai,b)\n",
    "print(xsol)"
   ]
  },
  {
   "cell_type": "markdown",
   "id": "fb3eec9b",
   "metadata": {
    "slideshow": {
     "slide_type": "slide"
    }
   },
   "source": [
    "# Resolvamos ahora el problema usando python y la libreria scikit-learn"
   ]
  },
  {
   "cell_type": "code",
   "execution_count": null,
   "id": "d9f79ea4",
   "metadata": {
    "scrolled": true
   },
   "outputs": [],
   "source": [
    "from sklearn.linear_model import LinearRegression\n",
    "\n",
    "x = [[0.1], [0.4] ,[0.5] ,[0.7] , [0.7],[0.9]]\n",
    "y = [0.61, 0.92,0.99,1.52,1.47,2.03]\n",
    "\n",
    "reg = LinearRegression().fit(x, y)\n",
    "\n",
    "print(reg.coef_)\n",
    "print(reg.intercept_)\n",
    "\n",
    "yssol = reg.predict(x)"
   ]
  },
  {
   "cell_type": "code",
   "execution_count": null,
   "id": "29bb0f52",
   "metadata": {
    "slideshow": {
     "slide_type": "slide"
    }
   },
   "outputs": [],
   "source": [
    "import matplotlib.pyplot as plt\n",
    "\n",
    "ymsol = xsol[0] + xsol[1]*x\n",
    "\n",
    "plt.figure(figsize=(10,8))\n",
    "plt.plot(x,y,'r*')\n",
    "#plt.plot(x,ymsol,'b-.',linewidth=2)\n",
    "#plt.plot(x,reg.predict(x),'k-+')\n",
    "\n",
    "plt.show()"
   ]
  },
  {
   "cell_type": "markdown",
   "id": "c37c54ae",
   "metadata": {
    "slideshow": {
     "slide_type": "slide"
    }
   },
   "source": [
    "## <center>  Problemas inversos </center>"
   ]
  },
  {
   "cell_type": "markdown",
   "id": "920c12ac",
   "metadata": {
    "slideshow": {
     "slide_type": "slide"
    }
   },
   "source": [
    "# Ejemplo de problemas inversos\n",
    "\n",
    "<span style=\"color:green\">Un ejemplo clásico es el ajuste de una función, definida por una colección de parámetros, a un conjunto dado de datos.</span>\n",
    "\n",
    "En los casos en los que este procedimiento de ajuste de la función puede ser categorizado como un problema inverso lineal, entonces este procedimiento es llamado una <span style=\"color:blue\">regresión lineal</span>.\n",
    "\n",
    "<span style=\"color:blue\"> Un ejemplo clásico de regresión lineal</span> es el de la <span style=\"color:red\">trayectoría balística.</span>\n",
    "\n",
    "\n",
    "Básicamente, los datos $y$ son observaciones de altitud de un cuerpo balístico en un conjunto de dado de tiempos $t$. \n",
    "\n",
    "Nos gustaría entonces resolver para un modelo, $\\textbf{m}$, que contenga la altitud inicial, $m_1$, la velocidad vertical inicial, $m_2$, y la aceleración gravitacional efectiva, $m_3$, experimentada por el cuerpo durante su trayectoria.  \n"
   ]
  },
  {
   "cell_type": "markdown",
   "id": "eb273cf2",
   "metadata": {
    "slideshow": {
     "slide_type": "slide"
    }
   },
   "source": [
    "### Tiro parabólico\n",
    "\n",
    "<center>\n",
    "<figure>\n",
    "    <img src=\"figuras/lan_parabolico.png\" alt=\"This is an alt\">\n",
    "    <figcaption>Tiro parabólico - Arturo Reina Sánchez - Wikipedia.</figcaption>\n",
    "</figure>\n",
    "</center>"
   ]
  },
  {
   "cell_type": "markdown",
   "id": "bc78be23",
   "metadata": {
    "slideshow": {
     "slide_type": "slide"
    }
   },
   "source": [
    "### El modelo matemático es una función cuadrática en el plano $(t, Y)$\n",
    "\n",
    "\\begin{equation}\n",
    "y(t) = m_1 + m_2 t − (1/2) m_3 t^2 \\label{eq.cuadratica}\n",
    "\\end{equation}\n",
    "\n",
    "El cual esperamos aplique en cada uno de los tiempos observados a lo largo de la trayectoría.\n",
    "\n",
    "Los datos consisten de m observaciones de la altura del cuerpo $y_i$ en tiempos correspondientes $t_i$.  Asumiendo que los tiempos $t_i$ son medidos de forma precisa, sin errores, y, aplicando la ecuación anterior  a cada observación, obtenemos un sistema de ecuaciones con $m$ filas y $n=3$ columnas las cuales relacionan los datos $y_i$  con los parámetros del modelo $m_j$ \n",
    "\n",
    "$$\n",
    "\\left [\n",
    "\\begin{array}{lll}\n",
    "1 & t_1 & -\\frac 1 2 t_1^2 \\\\\n",
    "1 & t_2 & -\\frac 1 2 t_2^2 \\\\\n",
    "1 & t_3 & -\\frac 1 2 t_3^2 \\\\\n",
    "\\vdots & \\vdots & \\vdots \\\\    \n",
    "1 & t_m & -\\frac 1 2 t_m^2 \\\\\n",
    " \\end{array}\n",
    "\\right ]  \\left [ \\begin{array}{l} m_1 \\\\ m_2 \\\\ m_3 \\end{array} \\right ] = \\left [  \\begin{array}{l}  y_1 \\\\ y_2 \\\\ y_3  \\\\ \\vdots \\\\ y_m \\end{array} \\right ]\n",
    "$$\n",
    "\n",
    "y, aunque el modelo matemático que relaciona $y$ y $t$ es cuadrático, las ecuaciones para los tres parámetros $m_i$ son lineales, entonces el resolver para $\\mathbf{m} = \\left [m_1, m_2, m_3 \\right ]^{T}$ es un problema lineal de estimación de parámetros."
   ]
  },
  {
   "cell_type": "markdown",
   "id": "a0f0775e",
   "metadata": {
    "slideshow": {
     "slide_type": "slide"
    }
   },
   "source": [
    "$$\n",
    "\\left [\n",
    "\\begin{array}{lll}\n",
    "1 & t_1 & -\\frac 1 2 t_1^2 \\\\\n",
    "1 & t_2 & -\\frac 1 2 t_2^2 \\\\\n",
    "1 & t_3 & -\\frac 1 2 t_3^2 \\\\\n",
    "\\vdots & \\vdots & \\vdots \\\\    \n",
    "1 & t_m & -\\frac 1 2 t_m^2 \\\\\n",
    " \\end{array}\n",
    "\\right ]  \\left [ \\begin{array}{l} m_1 \\\\ m_2 \\\\ m_3 \\end{array} \\right ] = \\left [  \\begin{array}{l}  y_1 \\\\ y_2 \\\\ y_3  \\\\ \\vdots \\\\ y_m \\end{array} \\right ]\n",
    "$$\n",
    "\n",
    "Si hay más datos que parámetros en los modelos del sistema de ecuaciones anterior, entonces las $m$ ecuaciones de restricción pueden ser inconsistentes, en cuyo caso puede ser imposible encontrar un modelo, $\\textbf{m}$, que satisfaga cada ecuación de forma exacta.  \n",
    "\n",
    "Tal situación puede darse debido a <span style=\"color:blue\">ruido</span> en la determinación de la posición del cuerpo, $y_i$, y/o en la medición exacta del tiempo, $t_i$.  También, esto puede deberse a que los modelos son aproximaciones con diferentes niveles de precisión.  \n"
   ]
  },
  {
   "cell_type": "markdown",
   "id": "d81dcc85",
   "metadata": {
    "slideshow": {
     "slide_type": "slide"
    }
   },
   "source": [
    "En algebra lineal elemental, en donde se espera una solución <span style=\"color:red\"> exacta </span> para el sistema de ecuaciones lineales, ya podemos darnos por vencidos pues tal solución no existe.\n",
    "\n",
    "\n",
    "<span style=\"color:blue\"> Sin embargo, soluciones prácticas a tales sistemas pueden encontrarse encontrando un conjunto de parámetros $\\textbf{m}$ que satisfagan los datos de una forma aproximada con </span> <span style=\"color:red\">el mejor ajuste posible.</span> \n",
    "\n",
    "\n",
    "\n",
    "#### ¿como así?\n",
    "\n"
   ]
  },
  {
   "cell_type": "markdown",
   "id": "ed4493bd",
   "metadata": {
    "slideshow": {
     "slide_type": "slide"
    }
   },
   "source": [
    "#### Un enfoque razonable para encontrar la solución que provea <span style=\"color:red\">el mejor ajuste posible </span> a un sistema lineal de ecuaciones inconsistente es el de encontrar un conjunto de parámetros  $\\textbf{m}$, que minimize alguna <span style=\"color:red\"> medida de ajuste </span>, calculada de las diferencias entre las observaciones y las predicciones teóricas del modelo de ajuste, comúnmente llamados <span style=\"color:red\">residuos</span>."
   ]
  },
  {
   "cell_type": "markdown",
   "id": "0fd5a737",
   "metadata": {
    "slideshow": {
     "slide_type": "slide"
    }
   },
   "source": [
    "### 2-norm o norma Euclidiana\n",
    "\n",
    "Una estrategia tradicional y ampliamente aplicada es la de encontrar un modelo que minimize la norma Euclidiana (2-norm) o distancia Euclidiana del vector residual\n",
    "\n",
    "$$\n",
    "    || \\mathbf{y} - \\textbf{Gm} ||_2 = \\sqrt{\\sum_{i=1}^m (y_i - (\\mathbf{Gm}_i)^2}\n",
    "$$\n",
    "\n",
    "Minimizar para la norma-2 es llamada **solución por mínimos cuadrados**.\n",
    "\n",
    "esta no es la única, o necesariamente, la mejor forma que puede ser aplicada para aproximadamente resolver el sistema de ecuaciones.  Una medida alternativa del ajuste entre el modelo teórico y los datos observados, la cual es superior en ciertas ocasiones es la **1-norm** o **norma 1**.\n",
    "\n",
    "$$\n",
    "    || \\mathbf{y} - \\textbf{Gm} ||_1 = \\sum_{i=1}^m |y_i - (\\mathbf{Gm}_i)|\n",
    "$$\n",
    "\n",
    "En particular, si se encuentran mucho ruido en los datos, minimizar la **norma 1** es menos sensible a puntos que son altamente discordantes con el modelo matemático que se esta minimizando.\n",
    "\n",
    "Técnicas de solución que son resistentes a  tales datos atípicos (**outliers**) son llamados procedimientos robustos de estimación. "
   ]
  },
  {
   "cell_type": "markdown",
   "id": "09cf061a",
   "metadata": {
    "slideshow": {
     "slide_type": "slide"
    }
   },
   "source": [
    "La solución por mínimos cuadrados, recordando las ecuaciones para el ajuste del modelo lineal\n",
    "$$\n",
    "\\left [\n",
    "\\begin{array}{lllll}\n",
    " \\sum_{i=1}^{L}     & + & \\sum_{i=1}^{L} x_i   \\\\\n",
    " \\sum_{i=1}^{L} x_i & + & \\sum_{i=1}^{L} x_i^2  \n",
    " \\end{array}\n",
    "\\right ]  \\left [ \\begin{array}{l} a \\\\ b \\end{array} \\right ] = \\left [  \\begin{array}{l} \\sum_{i=1}^{L} y_i \\\\ \\sum_{i=1}^{L} x_i y_i \\end{array} \\right ]\n",
    "$$\n",
    "\n",
    "Equivale a las siguientes, también llamadas,<span style=\"color:red\">  ecuaciones normales </span>.\n",
    "\n",
    "$$\n",
    "\\textbf{m}_{L_2} = (\\textbf{G}^{T}\\textbf{G})^{-1}\\textbf{G}^T\\textbf{d}.\n",
    "$$"
   ]
  },
  {
   "cell_type": "markdown",
   "id": "38d36846",
   "metadata": {
    "slideshow": {
     "slide_type": "slide"
    }
   },
   "source": [
    "Revisemos y resolvamos el problema una vez más de regresión balistica a un modelo cuadrático, en donde el modelo de regresión es:\n",
    "\n",
    "\\begin{equation}\n",
    "y(t) = m_1 + m_2 t − (1/2) m_3 t^2 \n",
    "\\end{equation}\n",
    "\n",
    "\n",
    "Y es medida en la dirección vertical.  El signo menos se aplica por que la aceleración gravitacional va en dirección al centro de la tierra. Considere un conjunto de datos con $m=10$ observaciones y errores independientes con distribución normal $(\\sigma=8m)$, generada usando los siguientes parámetros\n",
    "\n",
    "$$\n",
    "m_{true} = \\left [ 10 m , 100 m/s , 9.8 {m/s}^2 \\right ]^T .\n",
    "$$\n",
    "\n",
    "La tabla de datos es la siguiente:\n",
    "\n",
    "$$\n",
    "\\left [\n",
    "\\begin{array}{|l|l|l}\n",
    "t  & y & \\sigma \\\\\n",
    "\\hline \\\\\n",
    "1  & 109.3827  & 8 \\\\\n",
    "2  & 187.5385  & 8 \\\\\n",
    "3  & 267.5319  & 8 \\\\\n",
    "4  & 331.8753  & 8 \\\\\n",
    "5  & 386.0535  & 8 \\\\\n",
    "6  & 428.4271  & 8 \\\\\n",
    "7  & 452.1644  & 8 \\\\\n",
    "8  & 498.1461  & 8 \\\\\n",
    "9  & 512.3499  & 8 \\\\\n",
    "10 & 512.9753  & 8 \\\\\n",
    "\\hline \\\\\n",
    "\\end{array} \\right ]\n",
    "$$"
   ]
  },
  {
   "cell_type": "markdown",
   "id": "07cdb734",
   "metadata": {
    "slideshow": {
     "slide_type": "slide"
    }
   },
   "source": [
    "Para obtener la solución por mínimos cuadrados, construiremos la matriz $\\mathbf{G}$.  Tenga en cuenta que la $i_{ésima}$ fila de $\\mathbf{G}$ esta dada por:\n",
    "\n",
    "$$\n",
    " \\mathbf{G}_i,\\cdot = [1, t_i , -(1/2)t_i^2 ] \n",
    "$$\n",
    "\n",
    "Resuelva (usando numpy) para el sistema \n",
    "\n",
    "$$\n",
    " \\mathbf{G} \\mathbf{m} =  \\mathbf{d}\n",
    "$$\n",
    "\n",
    "Con los datos\n",
    "\n",
    "$$\n",
    "\\left [\n",
    "\\begin{array}{|l|l|l|}\n",
    "t  & y & \\sigma \\\\\n",
    "\\hline \\\\\n",
    "1  & 109.3827  & 8 \\\\\n",
    "2  & 187.5385  & 8 \\\\\n",
    "3  & 267.5319  & 8 \\\\\n",
    "4  & 331.8753  & 8 \\\\\n",
    "5  & 386.0535  & 8 \\\\\n",
    "6  & 428.4271  & 8 \\\\\n",
    "7  & 452.1644  & 8 \\\\\n",
    "8  & 498.1461  & 8 \\\\\n",
    "9  & 512.3499  & 8 \\\\\n",
    "10 & 512.9753  & 8 \\\\\n",
    "\\hline \\\\\n",
    "\\end{array} \\right ]\n",
    "$$\n",
    "\n",
    "Usando las ecuaciones normales (abajo) y scikit learn.  Objetivo: encontrar $\\textbf{m}_{L_2}$\n",
    "\n",
    "$$\n",
    "\\textbf{m}_{L_2} = (\\textbf{G}^{T}\\textbf{G})^{-1}\\textbf{G}^T\\textbf{d}.\n",
    "$$"
   ]
  },
  {
   "cell_type": "code",
   "execution_count": null,
   "id": "d33c0b63",
   "metadata": {
    "slideshow": {
     "slide_type": "skip"
    }
   },
   "outputs": [],
   "source": [
    "import numpy as np\n",
    "\n",
    "G = np.asarray([[1,1,-(1/2)*1**2]\n",
    "               ,[1,2,-(1/2)*2**2]\n",
    "               ,[1,3,-(1/2)*3**2]\n",
    "               ,[1,4,-(1/2)*4**2]\n",
    "               ,[1,5,-(1/2)*5**2]\n",
    "               ,[1,6,-(1/2)*6**2]\n",
    "               ,[1,7,-(1/2)*7**2]\n",
    "               ,[1,8,-(1/2)*8**2]\n",
    "               ,[1,9,-(1/2)*9**2]\n",
    "               ,[1,10,-(1/2)*10**2]])\n",
    "\n",
    "d = np.asarray([[109.3827]\n",
    "               ,[187.5385]\n",
    "               ,[267.5319]\n",
    "               ,[331.8753]\n",
    "               ,[386.0535]\n",
    "               ,[428.4271]\n",
    "               ,[452.1644]\n",
    "               ,[498.1461]\n",
    "               ,[512.3499]\n",
    "               ,[512.9753]\n",
    "               ])\n"
   ]
  },
  {
   "cell_type": "code",
   "execution_count": null,
   "id": "4efe3916",
   "metadata": {
    "slideshow": {
     "slide_type": "slide"
    }
   },
   "outputs": [],
   "source": [
    "print(G)\n",
    "G.shape"
   ]
  },
  {
   "cell_type": "code",
   "execution_count": null,
   "id": "440b928e",
   "metadata": {
    "slideshow": {
     "slide_type": "slide"
    }
   },
   "outputs": [],
   "source": [
    "print(d)\n",
    "d.shape"
   ]
  },
  {
   "cell_type": "markdown",
   "id": "de248823",
   "metadata": {
    "slideshow": {
     "slide_type": "slide"
    }
   },
   "source": [
    "#  Entonces usando las ecuaciones normales\n",
    "\n",
    "$$\n",
    "\\textbf{m}_{L_2} = (\\textbf{G}^{T}\\textbf{G})^{-1}\\textbf{G}^T\\textbf{d}.\n",
    "$$"
   ]
  },
  {
   "cell_type": "code",
   "execution_count": null,
   "id": "a0250845",
   "metadata": {
    "slideshow": {
     "slide_type": "-"
    }
   },
   "outputs": [],
   "source": [
    "# usando solo numpy\n",
    "import numpy as np\n",
    "\n",
    "#p1 = np.linalg.inv(np.matmul(G.transpose(),G))\n",
    "#p2 = np.matmul(p1,G.transpose())\n",
    "#m  = np.matmul(p2,d)\n",
    "\n",
    "## entonces la solución por minimos cuadrados es:\n",
    "#m"
   ]
  },
  {
   "cell_type": "code",
   "execution_count": null,
   "id": "90dd78e7",
   "metadata": {
    "scrolled": false,
    "slideshow": {
     "slide_type": "slide"
    }
   },
   "outputs": [],
   "source": [
    "import matplotlib.pyplot as plt\n",
    "from sklearn.preprocessing import PolynomialFeatures\n",
    "from sklearn.linear_model import LinearRegression\n",
    "\n",
    "poly = PolynomialFeatures(degree=2, include_bias=False)\n",
    "t =  np.arange(1, 11)\n",
    "#print(t)\n",
    "poly_features = poly.fit_transform(t.reshape(-1, 1))\n",
    "\n",
    "poly_reg_model = LinearRegression()\n",
    "poly_reg_model.fit(poly_features, d)\n",
    "\n",
    "d_pred = poly_reg_model.predict(poly_features)\n",
    "\n",
    "#print(poly_reg_model.intercept_,poly_reg_model.coef_)\n",
    "\n",
    "#plt.figure(figsize=(10,6))\n",
    "#plt.scatter(t, d)\n",
    "#plt.plot(t, d_pred,c='red')\n",
    "#plt.show()"
   ]
  },
  {
   "cell_type": "code",
   "execution_count": null,
   "id": "b723ff07",
   "metadata": {
    "slideshow": {
     "slide_type": "skip"
    }
   },
   "outputs": [],
   "source": []
  },
  {
   "cell_type": "code",
   "execution_count": null,
   "id": "4d3bd579",
   "metadata": {
    "scrolled": false,
    "slideshow": {
     "slide_type": "skip"
    }
   },
   "outputs": [],
   "source": [
    "import numpy as np\n",
    "import time\n",
    "\n",
    "start = time.time()\n",
    "m = 10000\n",
    "\n",
    "np.random.seed(10)\n",
    "\n",
    "A = np.random.rand(m, m)\n",
    "#print(A)\n",
    "\n",
    "d = np.random.rand(m, 1)\n",
    "#print(d)\n",
    "\n",
    "p1  = np.linalg.inv(A)\n",
    "sol = np.matmul(A,d)\n",
    "\n",
    "end = time.time()\n",
    "\n",
    "print(end-start)"
   ]
  },
  {
   "cell_type": "raw",
   "id": "98061f95",
   "metadata": {
    "slideshow": {
     "slide_type": "skip"
    }
   },
   "source": [
    "# import cupy as np\n",
    "import time\n",
    "\n",
    "start = time.time()\n",
    "m = 10000\n",
    "\n",
    "np.random.seed(10)\n",
    "\n",
    "A = np.random.rand(m, m)\n",
    "#print(A)\n",
    "d = np.random.rand(m, 1)\n",
    "#print(d)\n",
    "p1  = np.linalg.inv(A)\n",
    "sol = np.matmul(A,d)\n",
    "\n",
    "end = time.time()\n",
    "\n",
    "print(end-start)"
   ]
  },
  {
   "cell_type": "code",
   "execution_count": null,
   "id": "2d460ef8",
   "metadata": {
    "slideshow": {
     "slide_type": "skip"
    }
   },
   "outputs": [],
   "source": [
    "import math\n",
    "import threading\n",
    "from timeit import repeat\n",
    "\n",
    "import numpy as np\n",
    "from numba import jit\n",
    "\n",
    "nthreads = 12\n",
    "size = 11**8\n",
    "\n",
    "def func_np(a, b):\n",
    "    \"\"\"\n",
    "    Control function using Numpy.\n",
    "    \"\"\"\n",
    "    return np.exp(2.1 * a + 3.2 * b)\n",
    "\n",
    "\n",
    "@jit('void(double[:], double[:], double[:])', nopython=True,nogil=True)\n",
    "def inner_func_nb(result, a, b):\n",
    "    \"\"\"\n",
    "    Function under test.\n",
    "    \"\"\"\n",
    "    for i in range(len(result)):\n",
    "        result[i] = math.exp(2.1 * a[i] + 3.2 * b[i])\n",
    "        \n",
    "def timefunc(correct, s, func, *args, **kwargs):\n",
    "    \"\"\"\n",
    "    Benchmark *func* and print out its runtime.\n",
    "    \"\"\"\n",
    "    print(s.ljust(20), end=\" \")\n",
    "    # Make sure the function is compiled before the benchmark is\n",
    "    # started\n",
    "    res = func(*args, **kwargs)\n",
    "    if correct is not None:\n",
    "        assert np.allclose(res, correct), (res, correct)\n",
    "        \n",
    "    # time it\n",
    "    print('{:>5.0f} ms'.format(min(repeat(\n",
    "        lambda: func(*args, **kwargs), number=5, repeat=2)) * 1000))\n",
    "    return res\n",
    "\n",
    "\n",
    "def make_singlethread(inner_func):\n",
    "    \"\"\"\n",
    "    Run the given function inside a single thread.\n",
    "    \"\"\"\n",
    "    def func(*args):\n",
    "        length = len(args[0])\n",
    "        result = np.empty(length, dtype=np.float64)\n",
    "        inner_func(result, *args)\n",
    "        return result\n",
    "    return func\n",
    "\n",
    "\n",
    "def make_multithread(inner_func, numthreads):\n",
    "    \"\"\"\n",
    "    Run the given function inside *numthreads* threads, splitting\n",
    "    its arguments into equal-sized chunks.\n",
    "    \"\"\"\n",
    "    def func_mt(*args):\n",
    "        length = len(args[0])\n",
    "        result = np.empty(length, dtype=np.float64)\n",
    "        args = (result,) + args\n",
    "        chunklen = (length + numthreads - 1) // numthreads\n",
    "        # Create argument tuples for each input chunk\n",
    "        chunks = [[arg[i * chunklen:(i + 1) * chunklen] for arg in\n",
    "                   args] for i in range(numthreads)]\n",
    "        # Spawn one thread per chunk\n",
    "        threads = [threading.Thread(target=inner_func, args=chunk)\n",
    "                   for chunk in chunks]\n",
    "        for thread in threads:\n",
    "            thread.start()\n",
    "        for thread in threads:\n",
    "            thread.join()\n",
    "        return result\n",
    "    return func_mt\n",
    "\n",
    "func_nb    = make_singlethread(inner_func_nb)\n",
    "func_nb_mt = make_multithread(inner_func_nb, nthreads)\n",
    "\n",
    "a = np.random.rand(size)\n",
    "b = np.random.rand(size)\n",
    "correct = timefunc(None, \"numpy (1 thread)\", func_np, a, b)\n",
    "\n",
    "timefunc(correct, \"numba (1 thread)\", func_nb, a, b)\n",
    "timefunc(correct, \"numba (%d threads)\" % nthreads, func_nb_mt, a, b)"
   ]
  },
  {
   "cell_type": "code",
   "execution_count": null,
   "id": "8f09a533",
   "metadata": {},
   "outputs": [],
   "source": []
  },
  {
   "cell_type": "code",
   "execution_count": null,
   "id": "c69c44e0",
   "metadata": {},
   "outputs": [],
   "source": []
  }
 ],
 "metadata": {
  "celltoolbar": "Slideshow",
  "kernelspec": {
   "display_name": "Python 3 (ipykernel)",
   "language": "python",
   "name": "python3"
  },
  "language_info": {
   "codemirror_mode": {
    "name": "ipython",
    "version": 3
   },
   "file_extension": ".py",
   "mimetype": "text/x-python",
   "name": "python",
   "nbconvert_exporter": "python",
   "pygments_lexer": "ipython3",
   "version": "3.9.13"
  }
 },
 "nbformat": 4,
 "nbformat_minor": 5
}
